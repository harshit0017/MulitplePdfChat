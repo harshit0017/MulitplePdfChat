{
  "nbformat": 4,
  "nbformat_minor": 0,
  "metadata": {
    "colab": {
      "provenance": [],
      "gpuType": "T4"
    },
    "kernelspec": {
      "name": "python3",
      "display_name": "Python 3"
    },
    "language_info": {
      "name": "python"
    },
    "accelerator": "GPU"
  },
  "cells": [
    {
      "cell_type": "markdown",
      "source": [
        "# **Harshit Singh **\n",
        "\n",
        "---\n",
        "\n",
        "\n",
        "\n",
        "\n",
        "\n",
        "\n",
        "```\n",
        "#please insert  your openai api key and install the dependencies before running the file.\n",
        "```\n",
        "\n",
        "\n",
        "\n",
        "\n",
        "---\n",
        "\n",
        "\n"
      ],
      "metadata": {
        "id": "aHaPkxgE7UUG"
      }
    },
    {
      "cell_type": "markdown",
      "source": [
        "## Setup"
      ],
      "metadata": {
        "id": "43Z6U7XNMl0A"
      }
    },
    {
      "cell_type": "code",
      "execution_count": null,
      "metadata": {
        "id": "S6k29lnn-hF7"
      },
      "outputs": [],
      "source": [
        "%%capture\n",
        "!pip install openai langchain  tiktoken pypdf unstructured[local-inference] gradio chromadb"
      ]
    },
    {
      "cell_type": "code",
      "source": [
        "import os\n",
        "from langchain.text_splitter import CharacterTextSplitter\n",
        "from langchain.vectorstores import Pinecone, Chroma\n",
        "from langchain.embeddings.openai import OpenAIEmbeddings\n",
        "from langchain.chains import ConversationalRetrievalChain\n",
        "from langchain.chat_models import ChatOpenAI"
      ],
      "metadata": {
        "id": "EL9SFDqQ_F-O"
      },
      "execution_count": null,
      "outputs": []
    },
    {
      "cell_type": "code",
      "source": [
        "os.environ['OPENAI_API_KEY'] =\"\""
      ],
      "metadata": {
        "id": "v_3FRN1dAbGc"
      },
      "execution_count": null,
      "outputs": []
    },
    {
      "cell_type": "code",
      "source": [
        "#llm = ChatOpenAI(model_name=\"gpt-3.5-turbo\", temperature=0)"
      ],
      "metadata": {
        "id": "8cQ1IYdlAkb4"
      },
      "execution_count": null,
      "outputs": []
    },
    {
      "cell_type": "code",
      "source": [
        "from google.colab import drive\n",
        "drive.mount('/content/drive')"
      ],
      "metadata": {
        "id": "d4yH-Lp6otjt",
        "outputId": "99e45493-d118-4e81-8d41-743d3e9ef37b",
        "colab": {
          "base_uri": "https://localhost:8080/"
        }
      },
      "execution_count": null,
      "outputs": [
        {
          "output_type": "stream",
          "name": "stdout",
          "text": [
            "Mounted at /content/drive\n"
          ]
        }
      ]
    },
    {
      "cell_type": "code",
      "source": [
        "from langchain.document_loaders import DirectoryLoader\n",
        "\n",
        "pdf_loader = DirectoryLoader('/content/drive/MyDrive/LegalData', glob=\"**/*.pdf\")\n",
        "readme_loader = DirectoryLoader('/content/drive/MyDrive/LegalData', glob=\"**/*.md\")\n",
        "txt_loader = DirectoryLoader('/content/drive/MyDrive/LegalData', glob=\"**/*.txt\")"
      ],
      "metadata": {
        "id": "9bCdJGpTB8Dp"
      },
      "execution_count": null,
      "outputs": []
    },
    {
      "cell_type": "code",
      "source": [
        "#take all the loader\n",
        "loaders = [pdf_loader, readme_loader, txt_loader]\n",
        "\n",
        "#lets create document\n",
        "documents = []\n",
        "for loader in loaders:\n",
        "    documents.extend(loader.load())"
      ],
      "metadata": {
        "id": "JYkYmqmEDPwv",
        "colab": {
          "base_uri": "https://localhost:8080/"
        },
        "outputId": "39415e7f-d39b-46e3-bcb3-988cca9f9ff5"
      },
      "execution_count": null,
      "outputs": [
        {
          "output_type": "stream",
          "name": "stderr",
          "text": [
            "[nltk_data] Downloading package punkt to /root/nltk_data...\n",
            "[nltk_data]   Unzipping tokenizers/punkt.zip.\n",
            "[nltk_data] Downloading package averaged_perceptron_tagger to\n",
            "[nltk_data]     /root/nltk_data...\n",
            "[nltk_data]   Unzipping taggers/averaged_perceptron_tagger.zip.\n"
          ]
        }
      ]
    },
    {
      "cell_type": "code",
      "source": [
        "print (f'You have {len(documents)} document(s) in your data')\n",
        "print (f'There are {len(documents[0].page_content)} characters in your document')"
      ],
      "metadata": {
        "colab": {
          "base_uri": "https://localhost:8080/"
        },
        "id": "Khg3Wm8zrNvm",
        "outputId": "505e8441-4b8c-4350-f781-08cad45d81b8"
      },
      "execution_count": null,
      "outputs": [
        {
          "output_type": "stream",
          "name": "stdout",
          "text": [
            "You have 13 document(s) in your data\n",
            "There are 40795 characters in your document\n"
          ]
        }
      ]
    },
    {
      "cell_type": "code",
      "source": [
        "documents[0]"
      ],
      "metadata": {
        "id": "wx0j1rnwGW48",
        "colab": {
          "base_uri": "https://localhost:8080/"
        },
        "outputId": "22c884b8-bed6-473a-ba9b-452d49d4e0e4"
      },
      "execution_count": null,
      "outputs": [
        {
          "output_type": "execute_result",
          "data": {
            "text/plain": [
              "Document(page_content='THE MARINE AIDS TO NAVIGATION ACT, 2021 ______________\\n\\nARRANGEMENT OF SECTIONS ______________\\n\\nCHAPTER I\\n\\nPRELIMINARY\\n\\nSECTIONS\\n\\n1. Short title, extent and commencement. 2. Definitions.\\n\\nCHAPTER II\\n\\nDESIGNATION OF GENERAL AID TO NAVIGATION\\n\\n3. Power to designate general aid to navigation.\\n\\nCHAPTER III\\n\\nDIRECTOR GENERAL OF AIDS TO NAVIGATION\\n\\n4. Appointment of Director General, Deputy Director Generals and Directors. 5. Duties of Director General. 6. Central Advisory Committee. 7. Proceedings of Central Advisory Committee not to be invalidated.\\n\\nCHAPTER IV\\n\\nMANAGEMENT OF GENERAL AIDS TO NAVIGATION\\n\\n8. Management of general aids to navigation. 9. Powers of Central Government relating to aids to navigation.\\n\\nCHAPTER V\\n\\nMANAGEMENT OF VESSEL TRAFFIC SERVICES\\n\\n10. Management of vessel traffic services. 11. Powers of Central Government relating to vessel traffic services. 12. Competent Authority for Vessel Traffic Services. 13. Standards for establishment and operation of vessel traffic services.\\n\\nCHAPTER VI\\n\\nINSPECTION AND MANAGEMENT OF LOCAL AIDS TO NAVIGATION\\n\\n14. Power to inspect local aids to navigation. 15. Control of local aids to navigation by Central Government 16. Management of local aids to navigation by Central Government.\\n\\n1\\n\\nSECTIONS\\n\\nCHAPTER VII\\n\\nOBSTRUCTION TO FUNCTIONING OF AIDS TO NAVIGATION\\n\\n17. Power of Central Government to remove or alter obstructions to aids to navigation.\\n\\nCHAPTER VIII\\n\\nTRAINING AND CERTIFICATION\\n\\n18. Power of Central Government to train and certify operators of aids to navigation and vessel traffic\\n\\nservices. 19. Certification. 20. Accreditation of training organisations.\\n\\nCHAPTER IX\\n\\nMARKING OF WRECKS\\n\\n21. Marking of wrecks. 22. Reimbursement for marking wrecks.\\n\\nCHAPTER X\\n\\nDEVELOPMENT OF HERITAGE LIGHTHOUSES\\n\\n23. Power of Central Government to designate any aid to navigation as heritage lighthouse.\\n\\nCHAPTER XI\\n\\nMARINE AIDS TO NAVIGATION DUES\\n\\n24. Levy and collection of marine aids to navigation dues. 25. Utilisation of marine aids to navigation dues. 26. Receipts relating to marine aids to navigation dues and their verification. 27. Assessment of marine aids to navigation dues and ascertainment of tonnage. 28. Recovery of marine aids to navigation dues. 29. Refusal of port clearance. 30. Determination of disputes as to liability for payment. 31. Marine aids to navigation dues payable at one port recoverable at another. 32. Exemption. 33. Refund of excess payments. 34. Fees.\\n\\nCHAPTER XII\\n\\nFINANCE, ACCOUNTS AND AUDIT\\n\\n35. Receipt and expenditure. 36. Annual report.\\n\\n2\\n\\nSECTIONS\\n\\nCHAPTER XIII\\n\\nOFFENCES AND PENALTIES\\n\\n37. Intentionally obstructing aids to navigation or vessel traffic services. 38. Negligently obstructing aids to navigation or vessel traffic services. 39. Intentionally destroying or damaging aids to navigation or vessel traffic services. 40. Negligently destroying or damaging aids to navigation or vessel traffic services. 41. Causing damage to heritage lighthouse. 42. Evading payment of marine aids to navigation dues. 43. Noncompliance with directions of vessel traffic service provider. 44. Cognizance of offences. 45. Place of trial and jurisdiction of court.\\n\\nCHAPTER XIV\\n\\nMISCELLANEOUS\\n\\n46. Power of Central Government to make rules. 47. Delegation of powers by Central Government. 48. Power of Central Government to issue directions. 49. Protection of action taken in good faith. 50. Power to remove difficulties. 51. Laying of rules and notifications before Parliament. 52. Repeal and savings.\\n\\n3\\n\\nTHE MARINE AIDS TO NAVIGATION ACT, 2021\\n\\nACT NO. 20 OF 2021\\n\\n[31st July, 2021.]\\n\\nAn Act to provide for the development, maintenance and management of aids to navigation in India; for training and certification of operator of aids to navigation, development of its historical, educational and cultural value; to ensure compliance with the obligation under the maritime treaties and international instruments to which India is a party and for matters connected therewith or incidental thereto.\\n\\nWHEREAS India is signatory to maritime treaties and international instruments such as International Convention for the Safety of Life at Sea, 1974, as amended; and International Association of Marine Aids and Lighthouse Authorities Maritime Buoyage System;\\n\\nAND WHEREAS it is considered necessary to give effect to the said treaties and instruments which,\\n\\ninter alia, provide for aids to navigation, vessel traffic services and marking of wrecks;\\n\\nAND WHEREAS it is necessary to provide for and create a framework for the development, maintenance and management of vessel traffic services in India; training and certification of operators of aids to navigation; and the development of the historical educational and cultural value of aids to navigation;\\n\\nAND WHEREAS it is further necessary to create a framework for the levy and collection of marine aids to navigation dues to discharge the sovereign functions of development, maintenance and management of aids to navigation and vessel traffic services in India by Government, and for matters connected therewith or incidental thereto.\\n\\nBE it enacted by Parliament in the Seventy-second Year of the Republic of India as follows:—\\n\\nCHAPTER I\\n\\nPRELIMINARY\\n\\n1. Short title, extent and commencement.—(1) This Act may be called the Marine Aids to\\n\\nNavigation Act, 2021.\\n\\n(2) It extends to the whole of India including the maritime zones of India as specified in the Territorial\\n\\nWaters, Continental Shelf, Exclusive Economic Zone and Other Maritime Zones Act, 1976 (80 of 1976).\\n\\n(3) It shall come into force on such date1 as the Central Government may, by notification in the Official Gazette, appoint; and different dates may be appointed for different provisions of this Act and any reference in any such provision to the commencement of this Act shall be construed as a reference to the coming into force of that provision.\\n\\n1. 31ST March, 2022, vide notification No. S.O.1202(E), dated 17th March, 2022, see Gazette of India, Extraordinary, Part II, sec. 3 (ii).\\n\\n4\\n\\n2. Definitions.— (1) In this Act, unless the context otherwise requires,—\\n\\n(a) “accredited training organisation” means any organisation which is accredited by the Central\\n\\nGovernment under section 20 ;\\n\\n(b) “aid to navigation” means a device, system or service, external to vessels, designed and operated to enhance safe and efficient navigation of individual vessels and vessel traffic, but shall not be construed to include a reference to vessel traffic services, unless otherwise specified;\\n\\n(c) “Director General” means the Director General of Aids to Navigation appointed under\\n\\nsection 4;\\n\\n(d) “district” means an area demarcated as a district for the purposes of this Act under\\n\\nsub-section (1) of section 4;\\n\\n(e) “general aid to navigation” means any aid to navigation, which the Central Government may, by notification in the Official Gazette, declare to be a general aid to navigation for the purposes of this Act;\\n\\n(f) “heritage lighthouse” means an aid to navigation designated as such under section 23;\\n\\n(g) “local aid to navigation” means any aid to navigation which is not a general aid to navigation;\\n\\n(h) “local authority” means a State Government or other person having superintendence and\\n\\nmanagement over a local aid to navigation;\\n\\n(i) “marine aids to navigation dues” means the dues levied under section 24;\\n\\n(j) “notification” means a notification published in the Official Gazette of India and the expression\\n\\n“notify” with its grammatical variation and cognate expressions shall be construed accordingly;\\n\\n(k) “owner” means the owner of a vessel including its registered owner, a person to whom a share\\n\\nin the vessel belongs, bareboat charterer, manager and operator of the vessel;\\n\\n(l) “port” means any port as defined in the Indian Ports Act, 1908 (15 of 1908);\\n\\n(m) “prescribed” means prescribed by rules made under this Act;\\n\\n(n) “proper officer” in relation to any functions to be performed under this Act, means the officer of customs who is assigned those functions by the Central Board of Indirect Taxes and Customs constituted under the Central Boards of Revenue Act, 1963 (54 of 1963), and includes any person appointed by the Central Government to discharge the functions of a proper officer under this Act;\\n\\n(o) “rule” means rules made by the Central Government under this Act;\\n\\n(p) “ship” includes a sailing vessel;\\n\\n(q) “vessel” includes every description of water craft used or capable of being used in the marine environment, such as ship, boat, sailing vessel, fishing vessel, submersible, semi-submersible, hydrofoils, non-displacement crafts, amphibious crafts, wing-in-ground crafts, pleasure crafts, barges, lighters, mobile offshore drilling units or mobile offshore units;\\n\\n(r) “vessel traffic service” means a service implemented under this Act to improve the safety and\\n\\nefficiency of vessel traffic and to protect the environment\\n\\n(2) Words and expressions used but not defined in this Act, and defined in the Merchant Shipping Act,\\n\\n1958 (44 of 1958), shall have the same meanings respectively assigned to them in that Act.\\n\\n5\\n\\nCHAPTER II\\n\\nDESIGNATION OF GENERAL AID TO NAVIGATION\\n\\n3. Power to designate general aid to navigation.— The Central Government may, by notification in\\n\\nthe Official Gazette, designate any aid to navigation to be a general aid to navigation.\\n\\nCHAPTER III\\n\\nDIRECTOR GENERAL OF AIDS TO NAVIGATION\\n\\n4. Appointment of Director General, Deputy Director Generals and Directors.— (1) The Central\\n\\nGovernment shall, by notification in the Official Gazette, appoint,—\\n\\n(a) the Director General;\\n\\n(b) Deputy Director Generals; and\\n\\n(c) Directors for districts.\\n\\n(2) For the purposes of sub-section (1), the Central Government may demarcate such areas to be\\n\\ndistricts.\\n\\n(3) Every officer appointed under sub-section (1) shall discharge his functions under the general\\n\\nsuperintendence and control of the Director General.\\n\\n5. Duties of Director General.— The Director General shall advise the Central Government on matters relating to aids to navigation and perform such other duties as may be prescribed by the Central Government under this Act or in any other law for the time being in force.\\n\\n6. Central Advisory Committee.— (1) The Central Government shall, by notification in the Official\\n\\nGazette, appoint a Central Advisory Committee.\\n\\n(2) The Central Government shall consult the Central Advisory Committee in regard to—\\n\\n(a) the establishment or position of aids to navigation or of any works appertaining thereto; or\\n\\n(b) additions to or the alteration or removal of, any aid to navigation; or\\n\\n(c) variations to any aid to navigation or of the mode of use thereof; or\\n\\n(d) the cost of any proposal relating to aids to navigation; or\\n\\n(e) appointment of any sub-committee under sub-section (3); or\\n\\n(f) the making or alteration of any rules or rates of marine aids to navigation dues under this Act.\\n\\n(3) The Central Government may, if it deems necessary, appoint sub-committees for the purposes of\\n\\nadvising it in regard to any of the matters specified under this Act.\\n\\n(4) The Central Advisory Committee and the sub-committees referred to in sub-section (3) shall consist of such persons representing the interests affected by this Act or having special knowledge of the subject matter thereof.\\n\\n(5) The procedure and conduct of business of the Central Advisory Committee and the sub-committees\\n\\nreferred to in sub-section (3) shall be such as may be prescribed.\\n\\n7. Proceedings of Central Advisory Committee not to be invalidated.— No act or proceeding of\\n\\nthe Central Advisory Committee shall be invalidated merely by reason of—\\n\\n(a) any vacancy in, or any defect in its constitution; or\\n\\n(b) any defect in appointment of a person acting as its member; or\\n\\n6\\n\\n(c) any irregularity in its procedure not affecting the merits of the case.\\n\\nCHAPTER IV\\n\\nMANAGEMENT OF GENERAL AIDS TO NAVIGATION\\n\\n8. Management of general aids to navigation.— The development, maintenance and management of\\n\\nall general aids to navigation shall be vested in the Central Government.\\n\\n9. Powers of Central Government relating to aids to navigation.— (1) The Central Government, shall have the following powers relating to the development, maintenance and management of general aids to navigation, namely:— (a) establish and maintain aids to navigation;\\n\\n(b) add to, alter or remove any aid to navigation;\\n\\n(c) alter or vary any aid to navigation;\\n\\n(d) authorise to inspect any aid to navigation which may affect the safety of navigation;\\n\\n(e) authorise to enter any property, whether public or private, for the purposes of inspection of any\\n\\naid to navigation;\\n\\n(f) transport, or cause to be transported, any goods through any property, whether public or private,\\n\\nfor any purpose in connection with—\\n\\n(i) the maintenance of an aid to navigation; or\\n\\n(ii) the establishment of any aid to navigation;\\n\\n(g) acquire any land as may be necessary for the purposes of this Act—\\n\\n(i) to exercise its powers; or\\n\\n(ii) for the maintenance of works.\\n\\n(2) The Central Government shall, for the purposes of exercising its powers under sub-section (1), authorise any of the officers referred to in sub-section (1) of section 4, by general or special order in writing.\\n\\nCHAPTER V\\n\\nMANAGEMENT OF VESSEL TRAFFIC SERVICES\\n\\n10. Management of vessel traffic services.— (1) The development, maintenance and management of\\n\\nvessel traffic services shall be vested in the Central Government.\\n\\n(2) For the purposes of sub-section (1), the Central Government may, by order, authorise any person as\\n\\nvessel traffic service provider.\\n\\n11. Powers of Central Government relating to vessel traffic services.— The Central Government, shall have the following powers relating to the development, maintenance and management of vessel traffic services, namely:— (a) declare and authorise vessel traffic service provider to operate a vessel traffic service within an\\n\\nauthorised area;\\n\\n(b) accredit and approve vessel traffic service training and certification;\\n\\n(c) establish and operate vessel traffic services, where it deems necessary;\\n\\n(d) add to or alter or require any person to add to or alter any aspect of a vessel traffic service.\\n\\n7\\n\\n12. Competent Authority for Vessel Traffic Services.—(1) The Central Government shall, for the purposes of exercising its powers under section 11, appoint a Competent Authority for Vessel Traffic Services by notification in the Official Gazette. (2) The manner of appointment of the Competent Authority shall be such as may be prescribed.\\n\\n(3) The Competent Authority shall discharge such functions in such manner, as may be prescribed.\\n\\n13. Standards for establishment and operation of vessel traffic services.— The standards for\\n\\nestablishing and operating vessel traffic services in India shall be such, as may be prescribed.\\n\\nCHAPTER VI\\n\\nINSPECTION AND MANAGEMENT OF LOCAL AIDS TO NAVIGATION\\n\\n14. Power to inspect local aids to navigation.— (1) The Central Government may authorise any officer referred to in sub-section (1) of section 4 in writing, to enter upon at any time and inspect any local aid to navigation and make such inquiries in respect thereof or of the management thereof as such officer thinks fit. (2) Every person having the charge of, or concerned in the management of, any local aid to navigation shall furnish to the officer authorised under sub-section (1) to inspect such aid to navigation, all such information as the officer may require.\\n\\n(3) Every local authority shall furnish to the Central Government all such returns and other information in respect of the aids to navigation under its supervision and management, or of any of them, as the Central Government may require.\\n\\n15. Control of local aids to navigation by Central Government.— (1) If the Central Government is satisfied, after an inspection under section 14 or such other inquiry, that a direction under this sub-section is necessary or expedient for the safety, or otherwise, in the interests of vessels, it may direct any local authority— (a) to remove or discontinue or to refrain from moving or discontinuing any aid to navigation under its superintendence and management or to make or refrain from making any variation in the character or mode of use of any such aid to navigation; or\\n\\n(b) to erect, place or maintain, or to refrain from erecting, placing or maintaining any aid to\\n\\nnavigation within the local limits within which the local authority exercises its powers.\\n\\n(2) A local authority shall not erect, place, remove or discontinue any aid to navigation or vary the character or mode of use of any aid to navigation, unless it has given to the Central Government at least one month’s notice in writing of its intention so to do:\\n\\nProvided that, in cases of emergency, a local authority may take such action as it deems necessary and shall give immediate notice of the same to the Central Government and, so far as is possible, to all vessels approaching or in the vicinity of such aid to navigation.\\n\\n(3) If any local authority—\\n\\n(a) fails to comply with any direction made under sub-section (1); or\\n\\n(b) fails to exercise or perform, or exercises or performs in an improper, inefficient or unsuitable manner, any power or duty relating to the superintendence or management of any aid to navigation conferred or imposed upon it by or under any law for the time being in force; or\\n\\n(c) fails to make adequate financial provision for the performance of any such duty,\\n\\nthe Central Government may, by order in writing, require such local authority to comply with the direction, or to make arrangements to the satisfaction of that Government for the proper exercise of the\\n\\n8\\n\\npower or performance of the duty, or to make financial provision to the satisfaction of that Government for the performance of the duty, as the case may be, within such period as it may specify.\\n\\n(4) If the local authority fails to comply with an order made under sub-section (3) within the specified period or within such further time as the Central Government may allow, the Central Government may exercise the power or perform the duty or make the requisite financial provision, as the case may be, and the local authority shall be liable to reimburse to the Central Government any expenditure incurred by it in so doing.\\n\\n16. Management of local aids to navigation by Central Government.— The Central Government may, at the request of a local authority, undertake the superintendence and management of any local aids to navigation on its behalf, and the local authority shall pay to the Central Government such sums to defray the cost of superintendence and management, as may be agreed.\\n\\nCHAPTER VII\\n\\nOBSTRUCTION TO FUNCTIONING OF AIDS TO NAVIGATION\\n\\n17. Power of Central Government to remove or alter obstructions to aids to navigation.— (1) The Central Government may, by notification in the Official Gazette, specify restrictions on activities that interfere with or obstruct the operation of any aid to navigation within the specified distance of such aid to navigation. (2) Notwithstanding anything contained in any other law for the time being in force, where the functioning of any aid to navigation or vessel traffic service is being obstructed, directly or indirectly, the Central Government may, if it deems fit, issue such directions as may be necessary for the removal or alteration of such obstruction.\\n\\nCHAPTER VIII\\n\\nTRAINING AND CERTIFICATION\\n\\n18. Power of Central Government to train and certify operators of aids to navigation and vessel traffic services.—(1) No person shall be allowed to operate or work on, including any ancillary activities as may be prescribed, any aid to navigation in any place unless he holds a valid training certificate certifying that such person has been trained in the operation of such aid to navigation. (2) No person shall be allowed to operate or work on, including any ancillary activities as may be prescribed, a vessel traffic service in any place unless he holds a valid training certificate certifying that such person has been trained in the operation of vessel traffic services.\\n\\n(3) A certificate of training issued under this Act shall be valid and effective throughout the territory of\\n\\nIndia.\\n\\n19. Certification.—A certificate mentioned in sub-sections (1) and (2) of section 18 shall be issued by an accredited training organisation referred to in section 20, in such form, subject to such conditions and in such manner, as may be prescribed.\\n\\n20. Accreditation of training organisations.—(1) The Central Government shall accredit training organisations for imparting training to, or conduct assessments of, persons in the operation of aids to navigation and vessel traffic services. (2) The Central Government shall accredit such training organisations which meet the criteria, as may be prescribed, for imparting training to trainees or conduct assessment of persons in the operation of aids to navigation and vessel traffic services.\\n\\n9\\n\\nCHAPTER IX\\n\\nMARKING OF WRECKS\\n\\n21. Marking of wrecks.—The Central Government may, if considers necessary, give directions to any officer referred to in sub-section (1) of section 4 to mark any wreck in such manner as may be prescribed.\\n\\n22. Reimbursement for marking wrecks.—The cost for marking the wreck shall be borne by or\\n\\nrecovered from the owner or the operator of such vessel in such manner as may be prescribed.\\n\\nCHAPTER X\\n\\nDEVELOPMENT OF HERITAGE LIGHTHOUSES\\n\\n23. Power of Central Government to designate any aid to navigation as heritage lighthouse.— (1) The Central Government may, by notification in the Official Gazette, designate any aid to navigation under its control as a heritage lighthouse. (2) The Central Government shall develop the heritage lighthouses designated under sub-section (1), in addition to their function as aids to navigation or otherwise, for educational, cultural and tourism purposes, in such manner as may be prescribed.\\n\\nCHAPTER XI\\n\\nMARINE AIDS TO NAVIGATION DUES\\n\\n24. Levy and collection of marine aids to navigation dues.—(1) There shall be levied and collected the marine aids to navigation dues, at such rates, as the Central Government may, by notification in the Official Gazette, specify from time to time. (2) The marine aids to navigation dues levied under sub-section (1) shall be collected by the proper officer in respect of every ship arriving at or departing from any port in India, from such person, in such manner and at such time, as may be prescribed.\\n\\n(3) The proceeds of the marine aids to navigation dues collected shall be credited to the Consolidated\\n\\nFund of India in such manner as may be prescribed.\\n\\n(4) Every owner causing any ship to arrive at or depart from any port in India shall, self-assessing its liability to pay dues, file a return before the proper officer in such form and manner, as may be prescribed.\\n\\n25. Utilisation of marine aids to navigation dues.—The marine aids to navigation dues levied under\\n\\nthis Act shall be utilised for fulfilling the obligations and carrying out the purposes of this Act.\\n\\n26. Receipts relating to marine aids to navigation dues and their verification.—(1) The owner shall credit the marine aids to navigation dues into the account of the Central Government in such manner as may be prescribed. (2) The payment of marine aids to navigation dues shall be verified by the proper officer in respect\\n\\nof.—\\n\\n(a) the port at which the marine aids to navigation dues has been paid;\\n\\n(b) the amount of the payment;\\n\\n(c) the date on which the marine aids to navigation dues became payable; and\\n\\n(d) the name, tonnage and other proper description of the ship in respect of which the payment is\\n\\nmade,\\n\\nfor the purpose of granting clearance.\\n\\n10\\n\\n27. Assessment of marine aids to navigation dues and ascertainment of tonnage.—(1) The proper officer to whom the return has been furnished under sub-section (4) of section 24 shall, after making or causing to be made such inquiry as he thinks fit and after satisfying himself that the particulars stated in the return are correct, by order, assess the amount of marine aids to navigation dues payable by the owner or the master of the ship. (2) If the return has not been furnished to the proper officer under sub-section (4) of section 24, he shall, after making or causing to be made such inquiry as he thinks fit, by order, assess the amount of marine aids to navigation dues payable by the owner or the master of the ship.\\n\\n(3) For the purposes of levy of marine aids to navigation dues, the tonnage of a ship or sailing vessel shall be reckoned as under the Merchant Shipping Act, 1958 (44 of 1958), for such dues payable on a ship’s tonnage including the tonnage of any space added under the said Act to the tonnage of ships by reason of such space being utilised for carrying cargo.\\n\\n(4) In order to ascertain the tonnage of any ship for the purpose of levying marine aids to navigation dues, the proper officer may, if he deems it fit, require the production of any documents, the appearance of any person and the inspection of any vessel, in such manner as may be prescribed.\\n\\n28. Recovery of marine aids to navigation dues.—(1) If the owner of any ship refuses or neglects to pay the amount of marine aids to navigation dues payable under this Act in respect of the ship, the proper officer may seize the ship along with its equipment or any part thereof, and detain the same until the amount of the marine aids to navigation dues, together with the costs of the seizure and detention is paid. (2) If any part of such marine aids to navigation dues remains unpaid after the expiry of thirty days following the date of the seizure, the proper officer may cause the ship or other thing seized to be sold, and with the proceeds of the sale may satisfy the marine aids to navigation dues remaining unpaid, together with the costs of the sale and shall repay the surplus, if any, to the person by whom the same were payable.\\n\\n29. Refusal of port clearance.—The officer whose duty it is to grant a port clearance for any ship shall not grant the port clearance until the amount of marine aids to navigation dues payable in respect of the ship under this Act and of any fines imposed thereunder has been paid, or until security for the payment thereof has been given to his satisfaction.\\n\\n30. Determination of disputes as to liability for payment.—If any dispute arises as to whether marine aids to navigation dues, expenses or costs are payable in respect of any ship under this Act or as to the amount of such dues, expenses or costs, such dispute shall, on an application made in this behalf by either of the disputing parties, be heard and determined by a civil court having jurisdiction at the place where the dispute arose.\\n\\n31. Marine aids to navigation dues payable at one port recoverable at another.—(1) If the master of any ship in respect of which marine aids to navigation dues is payable at any port causes the ship to leave such port without having paid such dues, the proper officer at that port may, by writing, require the proper officer at any other port in India to which the ship may proceed, to recover the marine aids to navigation dues remaining unpaid. (2) Any proper officer to whom such a requisition is directed, shall proceed to levy such sum as if it were payable under this Act at the port at which he is the proper officer, and a certificate by the proper officer at the port at which the marine aids to navigation dues first became payable, stating the amount payable, shall be sufficient proof in any proceeding under this Act that such amount is payable.\\n\\n32. Exemption.—The Central Government may, by notification in the Official Gazette, exempt.—\\n\\n(a) any ship belonging to the Central Government or any State Government, which is not carrying\\n\\ncargo or passengers for freight or fares; or\\n\\n11\\n\\n(b) any other ship, or classes of ships or ships performing specified voyages,\\n\\nfrom the payment of marine aids to navigation dues either wholly or to such extent as may be specified in that notification.\\n\\n33. Refund of excess payments.—Where the marine aids to navigation dues has been paid in respect of any ship in excess of the amount payable under this Act, no claim to refund of such excess payment shall be admissible, unless it is made within six months from the date of such payment.\\n\\n34. Fees.—The fees to be charged for providing assistance to ships for rendering special services to\\n\\nvessels shall be at such rates as may be prescribed.\\n\\nCHAPTER XII\\n\\nFINANCE, ACCOUNTS AND AUDIT\\n\\n35. Receipt and expenditure.—The Central Government shall cause to be maintained a separate account of all amounts received by way of marine aids to navigation dues, expenses, costs and fines under this Act and of all expenditure incurred for the purposes of this Act, and shall cause such account to be laid before the Central Advisory Committee, as soon as possible after the close of each financial year.\\n\\n36. Annual report.—(1) The Central Government shall cause to be laid before the Central Advisory Committee before the close of each financial year a statement of the estimated receipts under, and expenditure for the purposes of this Act, during the forthcoming year. (2) The statement of estimated receipts and expenditure shall be prepared in consultation with the\\n\\nComptroller and Auditor-General of India, in such manner as may be prescribed.\\n\\nCHAPTER XIII\\n\\nOFFENCES AND PENALTIES\\n\\n37. Intentionally obstructing aids to navigation or vessel traffic services.—(1) Whoever, intentionally commits any act or omits to do any act, which results in obstruction of, or reduction in, or limitation of, the effectiveness of, any aid to navigation or vessel traffic service, shall be liable to imprisonment for a term which may extend up to six months or with fine which may extend up to one lakh rupees, or with both. (2) Notwithstanding anything contained in sub-section (1), no person shall be liable for punishment, if\\n\\nthat.—\\n\\n(a) act or omission was necessary to save a life or a vessel; and\\n\\n(b) such person took all reasonable steps to avoid the obstruction, reduction or limitation.\\n\\n38. Negligently obstructing aids to navigation or vessel traffic services.—(1) Whoever, negligently commits any act or omits to do any act, which results in obstruction of, or reduction in, or limitation of, the effectiveness of, any aid to navigation or vessel traffic service, shall be liable to imprisonment for a term which may extend up to three months or with fine which may extend up to fifty thousand rupees, or with both. (2) Notwithstanding anything contained in sub-section (1), no person shall be liable for punishment, if\\n\\nthat.—\\n\\n(a) act or omission was necessary to save a life or a vessel; and\\n\\n(b) such person took all reasonable steps to avoid the obstruction, reduction or limitation.\\n\\n39. Intentionally destroying or damaging aids to navigation or vessel traffic services.—(1) Whoever, intentionally commits any act or omits to do any act, which results in damage to or destruction\\n\\n12\\n\\nof any aid to navigation or vessel traffic service, shall be liable to imprisonment for a term which may extend up to twelve months or with fine which may extend up to five lakh rupees, or with both.\\n\\n(2) Notwithstanding anything contained in sub-section (1), no person shall be liable for punishment, if\\n\\nthat—\\n\\n(a) act or omission was necessary to save a life or a vessel; and\\n\\n(b) such person took all reasonable steps to avoid the damage or destruction.\\n\\n40. Negligently destroying or damaging aids to navigation or vessel traffic services.—(1) Whoever, negligently commits any act or omits to do any act, which results in damage to or destruction of any aid to navigation or vessel traffic service, shall be liable to imprisonment for a term which may extend up to six months or with fine which may extend up to one lakh rupees, or with both. (2) Notwithstanding anything contained in sub-section (1), no person shall be liable for punishment, if\\n\\nthat—\\n\\n(a) act or omission was necessary to save a life or a vessel; and\\n\\n(b) such person took all reasonable steps to avoid the damage or destruction.\\n\\n41. Causing damage to heritage lighthouse.— (1) Whoever, commits any act or omits to do any act, which results in damage to or destruction of any heritage lighthouse, shall be liable to imprisonment for a term which may extend up to six months or with fine which may extend up to one lakh rupees, or with both. (2) Notwithstanding anything contained in sub-section (1), no person shall be liable for punishment, if\\n\\nthat.—\\n\\n(a) act or omission was necessary to save a life or a vessel; and\\n\\n(b) such person took all reasonable steps to avoid the destruction, fouling, damage, reduction or\\n\\nlimitation.\\n\\n42. Evading payment of marine aids to navigation dues.— Every owner or master of a ship, who evades or attempts to evade the payment of marine aids to navigation dues, expenses or costs payable in respect of the ship under this Act, shall be liable for fine, which may extend up to five times the amount of the sum so payable.\\n\\n43. Non-compliance with directions of vessel traffic service provider.— Every owner or master of a ship, who fails to comply with any direction issued by a vessel traffic service provider relating to a vessel traffic service under this Act, shall be liable to fine which may extend up to one lakh rupees.\\n\\n44. Cognizance of offences.—(1) No court shall take cognizance of any offence under this Act, except upon a complaint in writing made by any officer authorised in this behalf by the Central Government. (2) No court inferior to that of a Metropolitan Magistrate or a Judicial Magistrate of the first class shall\\n\\ntry any offence under this Act.\\n\\n45. Place of trial and jurisdiction of court.—Whoever, commits any offence under this Act or any rules made thereunder, may ordinarily be inquired into and tried by a court within whose local jurisdiction— (a) such offence was committed; or\\n\\n(b) such person may be found; or\\n\\n13\\n\\n(c) in any court which the Central Government may, by notification, direct in this behalf; or\\n\\n(d) in any court in which he might be tried under any other law for time being in force.\\n\\nCHAPTER XIV\\n\\nMISCELLANEOUS\\n\\n46. Power of Central Government to make rules.—(1) The Central Government may, after previous\\n\\npublication, make rules for carrying out the purposes of this Act.\\n\\n(2) In particular and without prejudice to the generality of the foregoing power, such rules may\\n\\nprovide for all or any of the following matters, namely:—\\n\\n(a) duties of the Director General under section 5;\\n\\n(b) procedure and conduct of business of Central Advisory Committee and sub-committees\\n\\nconstituted under sub-section (5) of section 6;\\n\\n(c) manner of appointment of the Competent Authority under sub-section (2) and its functions\\n\\nunder sub-section (3), of section 12;\\n\\n(d) standards for establishment and operation of vessel traffic services under section 13;\\n\\n(e) ancillary activities relating to aids to navigation under sub-section (1) and ancillary activities\\n\\nrelating to vessel traffic services under sub-section (2), of section 18;\\n\\n(f) form and manner of certificate, to be issued and the conditions subject to which such certificate is to be issued by the accredited training organisation and validated by the Director General under section 19;\\n\\n(g) criteria for accreditation of training organisation under sub-section (2) of section 20;\\n\\n(h) manner of marking wrecks under section 21;\\n\\n(i) manner of recovering cost from the owner of the vessel for marking the wreck under section 22;\\n\\n(j) development of heritage lighthouses designated under sub-section (2) of section 23;\\n\\n(k) manner of, collection of marine aids to navigation dues by proper officer levied under sub-\\n\\nsection (2) and crediting the proceeds of the dues so collected under sub-section (3), of section 24;\\n\\n(l) form and manner of filing return under sub-section (4) of section 24;\\n\\n(m) manner of payment of marine aids to navigation dues to the Central Government under sub-\\n\\nsection (1) of section 26;\\n\\n(n) manner of production of documents, appearance of any person and inspection of any vessel by\\n\\nproper officer under sub-section (4) of section 27;\\n\\n(o) rates of fees for special services under section 34;\\n\\n(p) form and manner of statement of estimated receipts and expenditure to be prepared in\\n\\nconsultation with the Comptroller and Auditor-General of India under sub-section (2) of section 36;\\n\\n(q) any other matter which is required to be, or may be, prescribed, for the purposes of carrying out\\n\\nthe purposes of this Act.\\n\\n47. Delegation of powers by Central Government.— The Central Government may delegate to any\\n\\nof its officers all or any of the functions and powers conferred upon it under this Act.\\n\\n14\\n\\n48. Power of Central Government to issue directions.— (1) Notwithstanding anything contained in this Act, the Director General shall, in the discharge of his functions and duties under this Act, be bound by such directions on questions of policy as the Central Government may give to him in writing from time to time. (2) The decision of the Central Government whether a question is one of policy or not shall be final.\\n\\n49. Protection of action taken in good faith.— No suit, prosecution or other proceedings shall lie against the Central Government or any officer appointed under this Act for anything done or in good faith purporting to be done under this Act or the rules made thereunder.\\n\\n50. Power to remove difficulties.— (1) If any difficulty arises in giving effect to the provisions of this Act, the Central Government may, by order, published in the Official Gazette, make such provisions not inconsistent with the provisions of this Act as may appear to be necessary or expedient for removing the difficulty: Provided that no such order shall be made under this section after the expiry of three years from the\\n\\ncommencement of this Act.\\n\\n(2) Every order made under this section shall be laid, as soon as may be after it is made, before each\\n\\nHouse of Parliament.\\n\\n51. Laying of rules and notifications before Parliament.—Every rule made and every notification issued under this Act shall be laid, as soon as may be after it is made or issued, before each House of Parliament while it is in session for a total period of thirty days which may be comprised in one session or in two or more successive sessions, and if, before the expiry of the session immediately following the session or the successive sessions aforesaid, both Houses agree in making any modification in such rule, or notification or both Houses agree that the rule, should not be made or the notification should not be issued, the rule or notification shall thereafter have effect only in such modified form or be of no effect, as the case may be; so, however, that any such modification or annulment shall be without prejudice to the validity of anything previously done under that rule or notification.\\n\\n52. Repeal and savings.— (1) The Lighthouse Act, 1927 (17 of 1927) is hereby repealed.\\n\\n(2) Notwithstanding the repeal of the Lighthouse Act, 1927 (17 of 1927) (herein referred to as the\\n\\nrepealed Act), —\\n\\n(a) any notification, rule, regulation, bye-law, order or exemption issued, made or granted under the repealed Act shall, until revoked, have effect as if it had been issued, made or granted under the provisions of this Act;\\n\\n(b) any office established or created, officer appointed and anybody elected or constituted under the repealed Act shall continue and shall be deemed to have been established, created, appointed, elected, or constituted, as the case may be, under this Act;\\n\\n(c) any document referring to the repealed Act shall be construed as referring to this Act or to the\\n\\nprovision of this Act;\\n\\n(d) any fine levied under the repealed Act may be recovered as if it had been levied under this Act;\\n\\n(e) any offence committed under the repealed Act may be prosecuted and punished as if it had been\\n\\ncommitted under this Act;\\n\\n(f) any proceeding pending before any court under the repealed Act may be tried or disposed of\\n\\nunder the corresponding provisions of this Act;\\n\\n(g) the officers appointed under the provisions of the repealed Act and continuing during the\\n\\ncommencement of this Act shall continue as if they have been appointed under this Act;\\n\\n15\\n\\n(h) any person appointed under or by virtue of the repealed Act shall be deemed to have been\\n\\nappointed to that office under or by virtue of this Act;\\n\\n(i) any inspection, investigation or inquiry ordered to be done under the provisions of the repealed Act shall continue to be proceeded with as if such inspection, investigation or inquiry was ordered to be done under the corresponding provisions of this Act.\\n\\n16', metadata={'source': '/content/drive/MyDrive/LegalData/A2021-20.pdf'})"
            ]
          },
          "metadata": {},
          "execution_count": 11
        }
      ]
    },
    {
      "cell_type": "markdown",
      "source": [
        "## Split the Text from the documents"
      ],
      "metadata": {
        "id": "01sK31QQGuQ1"
      }
    },
    {
      "cell_type": "code",
      "source": [
        "text_splitter = CharacterTextSplitter(chunk_size=1000, chunk_overlap=40) #chunk overlap seems to work better\n",
        "documents = text_splitter.split_documents(documents)\n",
        "print(len(documents))"
      ],
      "metadata": {
        "colab": {
          "base_uri": "https://localhost:8080/"
        },
        "id": "pS6iEnTxGkku",
        "outputId": "9decf91c-2387-46a3-8ed5-ef05be5aefe0"
      },
      "execution_count": null,
      "outputs": [
        {
          "output_type": "stream",
          "name": "stdout",
          "text": [
            "695\n"
          ]
        }
      ]
    },
    {
      "cell_type": "code",
      "source": [
        "documents[0]"
      ],
      "metadata": {
        "colab": {
          "base_uri": "https://localhost:8080/"
        },
        "id": "i-pByaC1HHR9",
        "outputId": "2d577f53-bc72-45f7-97ba-62d51c99399e"
      },
      "execution_count": null,
      "outputs": [
        {
          "output_type": "execute_result",
          "data": {
            "text/plain": [
              "Document(page_content='THE MARINE AIDS TO NAVIGATION ACT, 2021 ______________\\n\\nARRANGEMENT OF SECTIONS ______________\\n\\nCHAPTER I\\n\\nPRELIMINARY\\n\\nSECTIONS\\n\\n1. Short title, extent and commencement. 2. Definitions.\\n\\nCHAPTER II\\n\\nDESIGNATION OF GENERAL AID TO NAVIGATION\\n\\n3. Power to designate general aid to navigation.\\n\\nCHAPTER III\\n\\nDIRECTOR GENERAL OF AIDS TO NAVIGATION\\n\\n4. Appointment of Director General, Deputy Director Generals and Directors. 5. Duties of Director General. 6. Central Advisory Committee. 7. Proceedings of Central Advisory Committee not to be invalidated.\\n\\nCHAPTER IV\\n\\nMANAGEMENT OF GENERAL AIDS TO NAVIGATION\\n\\n8. Management of general aids to navigation. 9. Powers of Central Government relating to aids to navigation.\\n\\nCHAPTER V\\n\\nMANAGEMENT OF VESSEL TRAFFIC SERVICES', metadata={'source': '/content/drive/MyDrive/LegalData/A2021-20.pdf'})"
            ]
          },
          "metadata": {},
          "execution_count": 14
        }
      ]
    },
    {
      "cell_type": "code",
      "source": [
        "documents[1]"
      ],
      "metadata": {
        "colab": {
          "base_uri": "https://localhost:8080/"
        },
        "id": "mwYWEYf-HLF6",
        "outputId": "fbea5c2b-a801-4de0-b65e-b30ad8b01206"
      },
      "execution_count": null,
      "outputs": [
        {
          "output_type": "execute_result",
          "data": {
            "text/plain": [
              "Document(page_content='MANAGEMENT OF VESSEL TRAFFIC SERVICES\\n\\n10. Management of vessel traffic services. 11. Powers of Central Government relating to vessel traffic services. 12. Competent Authority for Vessel Traffic Services. 13. Standards for establishment and operation of vessel traffic services.\\n\\nCHAPTER VI\\n\\nINSPECTION AND MANAGEMENT OF LOCAL AIDS TO NAVIGATION\\n\\n14. Power to inspect local aids to navigation. 15. Control of local aids to navigation by Central Government 16. Management of local aids to navigation by Central Government.\\n\\n1\\n\\nSECTIONS\\n\\nCHAPTER VII\\n\\nOBSTRUCTION TO FUNCTIONING OF AIDS TO NAVIGATION\\n\\n17. Power of Central Government to remove or alter obstructions to aids to navigation.\\n\\nCHAPTER VIII\\n\\nTRAINING AND CERTIFICATION\\n\\n18. Power of Central Government to train and certify operators of aids to navigation and vessel traffic\\n\\nservices. 19. Certification. 20. Accreditation of training organisations.\\n\\nCHAPTER IX\\n\\nMARKING OF WRECKS\\n\\n21. Marking of wrecks. 22. Reimbursement for marking wrecks.', metadata={'source': '/content/drive/MyDrive/LegalData/A2021-20.pdf'})"
            ]
          },
          "metadata": {},
          "execution_count": 15
        }
      ]
    },
    {
      "cell_type": "markdown",
      "source": [
        "## Embeddings and storing it in Vectorestore"
      ],
      "metadata": {
        "id": "Wx6JtYgWHZvL"
      }
    },
    {
      "cell_type": "code",
      "source": [
        "embeddings = OpenAIEmbeddings()"
      ],
      "metadata": {
        "id": "XI--vvaJHOgn"
      },
      "execution_count": null,
      "outputs": []
    },
    {
      "cell_type": "markdown",
      "source": [
        "### Using Chroma for storing vectors"
      ],
      "metadata": {
        "id": "qHqY2lzsL-Dj"
      }
    },
    {
      "cell_type": "code",
      "source": [
        "from langchain.vectorstores import Chroma"
      ],
      "metadata": {
        "id": "r6AUBDQ_hunC"
      },
      "execution_count": null,
      "outputs": []
    },
    {
      "cell_type": "code",
      "source": [
        "vectorstore = Chroma.from_documents(documents, embeddings)"
      ],
      "metadata": {
        "id": "7zOKdK4shnzc"
      },
      "execution_count": null,
      "outputs": []
    },
    {
      "cell_type": "code",
      "source": [
        "from langchain.llms import OpenAI"
      ],
      "metadata": {
        "id": "IiSQ4IQCtDT8"
      },
      "execution_count": null,
      "outputs": []
    },
    {
      "cell_type": "code",
      "source": [
        "retriever = vectorstore.as_retriever(search_type=\"mmr\", search_kwargs={\"k\":4})\n",
        "\n",
        "qa = ConversationalRetrievalChain.from_llm(OpenAI(temperature=0.5), retriever)"
      ],
      "metadata": {
        "id": "_ZGMwOuaNiHZ"
      },
      "execution_count": null,
      "outputs": []
    },
    {
      "cell_type": "code",
      "source": [
        "chat_history = []\n",
        "query = \"what is the law for criminals\"\n",
        "\n"
      ],
      "metadata": {
        "id": "LxpEcvZYoN3D"
      },
      "execution_count": null,
      "outputs": []
    },
    {
      "cell_type": "markdown",
      "source": [
        "# Using similarity search to find out the similarity bw different diocuments and the query -- basically the distances of vector embeddings"
      ],
      "metadata": {
        "id": "dMx21OCe6dEq"
      }
    },
    {
      "cell_type": "code",
      "source": [
        "docs = vectorstore.similarity_search_with_score(query)"
      ],
      "metadata": {
        "id": "HKD6Z6Mq0XoN"
      },
      "execution_count": null,
      "outputs": []
    },
    {
      "cell_type": "code",
      "source": [
        "docs"
      ],
      "metadata": {
        "id": "H7BTBJKh0gCd",
        "outputId": "39f7ee7c-66ee-445a-f2b6-b4af52045617",
        "colab": {
          "base_uri": "https://localhost:8080/"
        }
      },
      "execution_count": null,
      "outputs": [
        {
          "output_type": "execute_result",
          "data": {
            "text/plain": [
              "[(Document(page_content='10\\n\\nProvided that nothing contained in this sub-section shall render any such person liable to any punishment provided in this Act, if he proves that the offence was committed without his knowledge or that he exercised all due diligence to prevent the commission of such offence.\\n\\n(4) Notwithstanding anything contained in sub-section (3), where an offence under this Act has been committed by a company and it is proved that the offence has been committed with the consent or connivance of, or is attributable to any neglect on the part of, any director, manager, secretary or other officer of the company, such director, manager, secretary or other officer shall also be deemed to be guilty of that offence and shall be liable to be proceeded against and punished accordingly.\\n\\nExplanation.—For the purposes of sub-sections (3) and (4),—\\n\\n(a) \"company\" means any body corporate, and includes a firm or other association of individuals;\\n\\nand', metadata={'source': '/content/drive/MyDrive/LegalData/a2021-29.pdf'}),\n",
              "  0.43111133575439453),\n",
              " (Document(page_content='38. Negligently obstructing aids to navigation or vessel traffic services.—(1) Whoever, negligently commits any act or omits to do any act, which results in obstruction of, or reduction in, or limitation of, the effectiveness of, any aid to navigation or vessel traffic service, shall be liable to imprisonment for a term which may extend up to three months or with fine which may extend up to fifty thousand rupees, or with both. (2) Notwithstanding anything contained in sub-section (1), no person shall be liable for punishment, if\\n\\nthat.—\\n\\n(a) act or omission was necessary to save a life or a vessel; and\\n\\n(b) such person took all reasonable steps to avoid the obstruction, reduction or limitation.\\n\\n39. Intentionally destroying or damaging aids to navigation or vessel traffic services.—(1) Whoever, intentionally commits any act or omits to do any act, which results in damage to or destruction\\n\\n12', metadata={'source': '/content/drive/MyDrive/LegalData/A2021-20.pdf'}),\n",
              "  0.44064393639564514),\n",
              " (Document(page_content='(ii) the procedure being undertaken; and\\n\\n(iii) outcome of the procedure, complications, if any, to the National Registry\\n\\nperiodically, in such manner as may be prescribed.\\n\\n22. Written informed consent. — (1) The clinic shall not perform any treatment or procedure\\n\\nwithout—\\n\\n(a) the written informed consent of all the parties seeking assisted reproductive technology;\\n\\n(b) an insurance coverage of such amount as may be prescribed for a period of twelve months in favour of the oocyte donor by the commissioning couple or woman from an insurance company or an agent recognised by the Insurance Regulatory and Development Authority established under the provisions of the Insurance Regulatory and Development Authority Act, 1999 (41 of 1999).\\n\\n(2) The clinics and banks shall not cryo-preserve any human embryos or gamete, without specific instructions and consent in writing from all the parties seeking assisted reproductive technology, in case of death or incapacity of any of the parties.', metadata={'source': '/content/drive/MyDrive/LegalData/A2021-42 .pdf'}),\n",
              "  0.44111090898513794),\n",
              " (Document(page_content='that—\\n\\n(a) act or omission was necessary to save a life or a vessel; and\\n\\n(b) such person took all reasonable steps to avoid the damage or destruction.\\n\\n41. Causing damage to heritage lighthouse.— (1) Whoever, commits any act or omits to do any act, which results in damage to or destruction of any heritage lighthouse, shall be liable to imprisonment for a term which may extend up to six months or with fine which may extend up to one lakh rupees, or with both. (2) Notwithstanding anything contained in sub-section (1), no person shall be liable for punishment, if\\n\\nthat.—\\n\\n(a) act or omission was necessary to save a life or a vessel; and\\n\\n(b) such person took all reasonable steps to avoid the destruction, fouling, damage, reduction or\\n\\nlimitation.', metadata={'source': '/content/drive/MyDrive/LegalData/A2021-20.pdf'}),\n",
              "  0.4434756636619568)]"
            ]
          },
          "metadata": {},
          "execution_count": 54
        }
      ]
    },
    {
      "cell_type": "markdown",
      "source": [
        "# Extracting the most relevants document's sources and their scores"
      ],
      "metadata": {
        "id": "e3F_Mjn561kG"
      }
    },
    {
      "cell_type": "code",
      "source": [
        "# Creating list to store details\n",
        "details_list = []\n",
        "\n",
        "# Extract similarity score, source, page number, and page content for each document and store them in the list\n",
        "for doc, similarity_score in docs:\n",
        "    page_content = doc.page_content\n",
        "    metadata = doc.metadata\n",
        "\n",
        "    # Extract page number\n",
        "    page_number = page_content.split('\\n')[0]\n",
        "\n",
        "    # Extract source\n",
        "    source = metadata.get('source', 'Source information not available')\n",
        "\n",
        "    # Append the details as a tuple to the list, including page content\n",
        "    details_list.append((similarity_score, source, page_number, page_content))\n",
        "\n",
        "# Sort the list in descending order based on similarity score\n",
        "details_list.sort(reverse=True)\n",
        "\n",
        "# Print the sorted details\n",
        "for similarity_score, source, page_number, page_content in details_list:\n",
        "    print(\"Similarity Score:\", similarity_score)\n",
        "   # print(\"Page Number:\", page_number)\n",
        "    print(\"Source:\", source)\n",
        "    #print(\"Page Content:\", page_content)\n",
        "    print(\"\\n\")  # Add a separator for clarity\n",
        "\n"
      ],
      "metadata": {
        "id": "0hSpM6wz1YT4",
        "outputId": "ad1634a2-5040-4d7e-90ac-b391a075cd62",
        "colab": {
          "base_uri": "https://localhost:8080/"
        }
      },
      "execution_count": null,
      "outputs": [
        {
          "output_type": "stream",
          "name": "stdout",
          "text": [
            "Similarity Score: 0.4434756636619568\n",
            "Source: /content/drive/MyDrive/LegalData/A2021-20.pdf\n",
            "\n",
            "\n",
            "Similarity Score: 0.44111090898513794\n",
            "Source: /content/drive/MyDrive/LegalData/A2021-42 .pdf\n",
            "\n",
            "\n",
            "Similarity Score: 0.44064393639564514\n",
            "Source: /content/drive/MyDrive/LegalData/A2021-20.pdf\n",
            "\n",
            "\n",
            "Similarity Score: 0.43111133575439453\n",
            "Source: /content/drive/MyDrive/LegalData/a2021-29.pdf\n",
            "\n",
            "\n"
          ]
        }
      ]
    },
    {
      "cell_type": "markdown",
      "source": [
        "# Only the top similarity score documents are fed to the chain for generating the responses"
      ],
      "metadata": {
        "id": "9qyAiz8Z7CmN"
      }
    },
    {
      "cell_type": "code",
      "source": [
        "result = qa({\"question\": query, \"chat_history\": chat_history})\n",
        "result[\"answer\"]"
      ],
      "metadata": {
        "id": "0cOQIq1W4j7k",
        "outputId": "ed900874-1baa-43eb-fad8-dfb80deda616",
        "colab": {
          "base_uri": "https://localhost:8080/",
          "height": 125
        }
      },
      "execution_count": null,
      "outputs": [
        {
          "output_type": "execute_result",
          "data": {
            "text/plain": [
              "' Under this Act, all offences punishable under this Act are cognizable and non-bailable. For offences under section 7, 9, 10, 17, the punishment is imprisonment for a term which may extend to seven years and with fine which shall not be less than ten lakh rupees but which may extend to fifty lakh rupees. For offences under section 17, the punishment is an imprisonment for a term which shall not be less than twenty years but which may extend to imprisonment for life and with fine which shall not be less than fifty crore rupees for any nuclear explosion in Antarctica, or an imprisonment for a term which shall not be less than fourteen years but which may extend to imprisonment for life and with fine which shall not be less than twenty-five crore rupees for disposal of any radioactive waste material in Antarctica.'"
            ],
            "application/vnd.google.colaboratory.intrinsic+json": {
              "type": "string"
            }
          },
          "metadata": {},
          "execution_count": 73
        }
      ]
    },
    {
      "cell_type": "code",
      "source": [
        "data=retriever.get_relevant_documents(query)"
      ],
      "metadata": {
        "id": "5TZ1yBccyuc_"
      },
      "execution_count": null,
      "outputs": []
    },
    {
      "cell_type": "code",
      "source": [
        "# List of document objects\n",
        "documents = data\n",
        "\n",
        "# Iterate through the documents and extract information\n",
        "for document in documents:\n",
        "    page_content = document.page_content\n",
        "    metadata = document.metadata\n",
        "\n",
        "    # Extract page number (assuming it's the number at the beginning of the content)\n",
        "    page_number = page_content.split('\\n')[0]\n",
        "\n",
        "    # Extract source\n",
        "    source = metadata.get('source', 'Source information not available')\n",
        "\n",
        "    # Print the extracted information for each document\n",
        "    print(\"Page Number:\", page_number)\n",
        "    print(\"Source:\", source)\n",
        "    print(\"\\n\")  # Add a separator for clarity\n"
      ],
      "metadata": {
        "id": "UCoKS09Bz-Dv",
        "outputId": "42b7ac27-5891-429c-e7eb-b412bb35fe97",
        "colab": {
          "base_uri": "https://localhost:8080/"
        }
      },
      "execution_count": null,
      "outputs": [
        {
          "output_type": "stream",
          "name": "stdout",
          "text": [
            "Page Number: 10\n",
            "Source: /content/drive/MyDrive/LegalData/a2021-29.pdf\n",
            "\n",
            "\n",
            "Page Number: adoption or through surrogacy earlier:\n",
            "Source: /content/drive/MyDrive/LegalData/A2021-47.pdf\n",
            "\n",
            "\n",
            "Page Number: (d) Ommatophocarossii (Ross Seal) or any other species as may be prescribed shall be accorded special protection and permit for killing, injuring, capturing or handling of these species may be issued only for scientific purpose, if the survival or recovery of that species or local population is not jeopardised, and non-lethal techniques are used as far as possible; and\n",
            "Source: /content/drive/MyDrive/LegalData/a2022-13.pdf\n",
            "\n",
            "\n",
            "Page Number: 67. Application of other laws not barred.—The provisions of this Act shall be in addition to and\n",
            "Source: /content/drive/MyDrive/LegalData/A2021-1.pdf\n",
            "\n",
            "\n"
          ]
        }
      ]
    },
    {
      "cell_type": "code",
      "source": [
        "chat_history.append((query, result[\"answer\"]))\n",
        "chat_history"
      ],
      "metadata": {
        "colab": {
          "base_uri": "https://localhost:8080/"
        },
        "id": "n3QZzJ0D-6QY",
        "outputId": "fd39db74-3635-4109-a594-5859cc888686"
      },
      "execution_count": null,
      "outputs": [
        {
          "output_type": "execute_result",
          "data": {
            "text/plain": [
              "[('what is the law for criminals',\n",
              "  ' Under this Act, all offences punishable under this Act are cognizable and non-bailable. For offences under section 7, 9, 10, 17, the punishment is imprisonment for a term which may extend to seven years and with fine which shall not be less than ten lakh rupees but which may extend to fifty lakh rupees. For offences under section 17, the punishment is an imprisonment for a term which shall not be less than twenty years but which may extend to imprisonment for life and with fine which shall not be less than fifty crore rupees for any nuclear explosion in Antarctica, or an imprisonment for a term which shall not be less than fourteen years but which may extend to imprisonment for life and with fine which shall not be less than twenty-five crore rupees for disposal of any radioactive waste material in Antarctica.')]"
            ]
          },
          "metadata": {},
          "execution_count": 74
        }
      ]
    },
    {
      "cell_type": "code",
      "source": [
        "query = \"Act not intended and not known to be likely to cause death or grievous hurt, done by consent.\"\n",
        "result = qa({\"question\": query, \"chat_history\": chat_history})\n",
        "result[\"answer\"]"
      ],
      "metadata": {
        "colab": {
          "base_uri": "https://localhost:8080/",
          "height": 71
        },
        "id": "wtn22jDK_6Qj",
        "outputId": "8b40aebf-1ce1-4ba6-cbc3-288a3ec5b151"
      },
      "execution_count": null,
      "outputs": [
        {
          "output_type": "execute_result",
          "data": {
            "text/plain": [
              "' There is no specific punishment provided for offences under the Act which are not intended and not known to be likely to cause death or grievous hurt, done by consent. If the offence is committed by a company, the director, manager, secretary, or other officer of the company may be deemed guilty of the offence and liable to be proceeded against and punished accordingly.'"
            ],
            "application/vnd.google.colaboratory.intrinsic+json": {
              "type": "string"
            }
          },
          "metadata": {},
          "execution_count": 75
        }
      ]
    }
  ]
}